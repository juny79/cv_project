import os, cv2
import pandas as pd
import numpy as np
import matplotlib.pyplot as plt
import seaborn as sns
from PIL import Image

# 데이터셋 로드
df = pd.read_csv('train.csv')  # id, label
img_dir = './train_images'

# 클래스 분포
sns.countplot(x='label', data=df)
plt.xticks(rotation=45)
plt.title('Document Type Distribution')
plt.show()

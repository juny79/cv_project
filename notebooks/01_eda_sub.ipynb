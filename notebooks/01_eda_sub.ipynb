{
 "cells": [
  {
   "cell_type": "code",
   "execution_count": 2,
   "id": "831186fe",
   "metadata": {},
   "outputs": [
    {
     "name": "stdout",
     "output_type": "stream",
     "text": [
      "train 이미지 수: 1570\n",
      "test 이미지 수: 3140\n",
      "train id 예시: 002f99746285dfdd.jpg\n",
      "test id 예시: 0008fdb22ddce0ce.jpg\n"
     ]
    }
   ],
   "source": [
    "import pandas as pd\n",
    "import matplotlib.pyplot as plt\n",
    "import seaborn as sns\n",
    "\n",
    "# 경로 설정\n",
    "train_path = '/root/cv_project/data/train.csv'\n",
    "sample_path = '/root/cv_project/data/sample_submission.csv'\n",
    "\n",
    "# CSV 로드\n",
    "df = pd.read_csv(train_path)\n",
    "sample = pd.read_csv(sample_path)\n",
    "\n",
    "# train/test 이미지 개수 비교\n",
    "print(f\"train 이미지 수: {len(df)}\")\n",
    "print(f\"test 이미지 수: {len(sample)}\")\n",
    "\n",
    "# ID 컬럼명 자동 탐색\n",
    "id_cols_train = [c for c in df.columns if 'id' in c.lower() or 'file' in c.lower()]\n",
    "id_cols_test  = [c for c in sample.columns if 'id' in c.lower() or 'file' in c.lower()]\n",
    "\n",
    "train_id_col = id_cols_train[0] if id_cols_train else None\n",
    "test_id_col  = id_cols_test[0] if id_cols_test else None\n",
    "\n",
    "if train_id_col and test_id_col:\n",
    "    print(\"train id 예시:\", df[train_id_col].iloc[0])\n",
    "    print(\"test id 예시:\", sample[test_id_col].iloc[0])\n",
    "else:\n",
    "    print(\"⚠️ ID 컬럼을 찾지 못했습니다. 실제 컬럼명 확인 필요:\")\n",
    "    print(\"train 컬럼:\", list(df.columns))\n",
    "    print(\"test 컬럼:\", list(sample.columns))\n"
   ]
  }
 ],
 "metadata": {
  "kernelspec": {
   "display_name": "base",
   "language": "python",
   "name": "python3"
  },
  "language_info": {
   "codemirror_mode": {
    "name": "ipython",
    "version": 3
   },
   "file_extension": ".py",
   "mimetype": "text/x-python",
   "name": "python",
   "nbconvert_exporter": "python",
   "pygments_lexer": "ipython3",
   "version": "3.10.13"
  }
 },
 "nbformat": 4,
 "nbformat_minor": 5
}
